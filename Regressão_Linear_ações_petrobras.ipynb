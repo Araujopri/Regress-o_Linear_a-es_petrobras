{
  "nbformat": 4,
  "nbformat_minor": 0,
  "metadata": {
    "colab": {
      "provenance": [],
      "include_colab_link": true
    },
    "kernelspec": {
      "name": "python3",
      "display_name": "Python 3"
    },
    "language_info": {
      "name": "python"
    }
  },
  "cells": [
    {
      "cell_type": "markdown",
      "metadata": {
        "id": "view-in-github",
        "colab_type": "text"
      },
      "source": [
        "<a href=\"https://colab.research.google.com/github/Araujopri/Araujopri/blob/main/Regress%C3%A3o_Linear_a%C3%A7%C3%B5es_petrobras.ipynb\" target=\"_parent\"><img src=\"https://colab.research.google.com/assets/colab-badge.svg\" alt=\"Open In Colab\"/></a>"
      ]
    },
    {
      "cell_type": "code",
      "source": [
        "import pandas as pd\n",
        "from sklearn.model_selection import train_test_split\n",
        "from sklearn.linear_model import LinearRegression\n",
        "from sklearn.metrics import mean_squared_error, r2_score\n",
        "\n"
      ],
      "metadata": {
        "id": "UdWLZO-cSGCJ"
      },
      "execution_count": null,
      "outputs": []
    },
    {
      "cell_type": "code",
      "execution_count": null,
      "metadata": {
        "colab": {
          "base_uri": "https://localhost:8080/"
        },
        "id": "Ec_X_6cnD_Ba",
        "outputId": "af52519f-6ea1-49f6-8552-7ab0cbfcf0f6"
      },
      "outputs": [
        {
          "output_type": "stream",
          "name": "stdout",
          "text": [
            "         DATA ABERTURA FECHAMENTO VARIAÇÃO MÍNIMO MÁXIMO VOLUME\n",
            "0  25/10/2023    36,08      36,07     0,53  35,75  36,28  1,18B\n",
            "1  24/10/2023    35,65      35,88     1,50  35,17  36,19  2,80B\n",
            "2  23/10/2023    36,59      35,35    -6,61  35,26  36,80  3,74B\n",
            "3  20/10/2023    38,69      37,85    -1,28  37,39  38,86  2,50B\n",
            "4  19/10/2023    38,36      38,34    -0,47  37,92  38,47  2,14B\n",
            "5  18/10/2023    37,99      38,52     2,26  37,91  38,61  3,28B\n",
            "6  17/10/2023    36,70      37,67     2,70  36,63  37,67  2,55B\n",
            "7  16/10/2023    36,40      36,68     1,10  35,96  36,80  1,80B\n",
            "8  13/10/2023    35,79      36,28     3,30  35,78  36,36  2,41B\n",
            "9  11/10/2023    35,14      35,12    -0,26  34,49  35,25  1,44B\n"
          ]
        }
      ],
      "source": [
        "import pandas as pd\n",
        "\n",
        "treino = pd.read_csv('Pet.csv')\n",
        "print(treino.head(10))\n"
      ]
    },
    {
      "cell_type": "code",
      "source": [
        "# Função para converter valores em notação B para formato numérico\n",
        "def convert_volume(value):\n",
        "    if value.endswith('B'):\n",
        "        return float(value.replace('B', '').replace(',', '')) * 1e9\n",
        "    elif value.endswith('M'):\n",
        "        return float(value.replace('M', '').replace(',', '')) * 1e6\n",
        "    else:\n",
        "        return float(value.replace('K', '').replace(',', '')) * 1e3\n",
        "\n",
        "# Carregando os dados\n",
        "treino = pd.read_csv('Pet.csv')\n",
        "\n",
        "# Convertendo a coluna 'DATA' para o formato de data\n",
        "treino['DATA'] = pd.to_datetime(treino['DATA'], format='%d/%m/%Y')\n",
        "\n",
        "# Removendo caracteres não numéricos e convertendo colunas para números\n",
        "treino['ABERTURA'] = treino['ABERTURA'].str.replace(',', '.').astype(float)\n",
        "treino['FECHAMENTO'] = treino['FECHAMENTO'].str.replace(',', '.').astype(float)\n",
        "treino['VARIAÇÃO'] = treino['VARIAÇÃO'].str.replace(',', '.').str.rstrip('%').astype(float)\n",
        "treino['MÍNIMO'] = treino['MÍNIMO'].str.replace(',', '.').astype(float)\n",
        "treino['MÁXIMO'] = treino['MÁXIMO'].str.replace(',', '.').astype(float)\n",
        "\n",
        "# Aplicando a função à coluna \"VOLUME\"\n",
        "treino['VOLUME'] = treino['VOLUME'].apply(convert_volume)\n",
        "\n",
        "# Exibindo os primeiros registros do DataFrame\n",
        "print(treino.head())\n"
      ],
      "metadata": {
        "colab": {
          "base_uri": "https://localhost:8080/"
        },
        "id": "S0T4QbnEEZcJ",
        "outputId": "b0b1d2bc-18a8-469b-ecb8-c0322f21160b"
      },
      "execution_count": null,
      "outputs": [
        {
          "output_type": "stream",
          "name": "stdout",
          "text": [
            "        DATA  ABERTURA  FECHAMENTO  VARIAÇÃO  MÍNIMO  MÁXIMO        VOLUME\n",
            "0 2023-10-25     36.08       36.07      0.53   35.75   36.28  1.180000e+11\n",
            "1 2023-10-24     35.65       35.88      1.50   35.17   36.19  2.800000e+11\n",
            "2 2023-10-23     36.59       35.35     -6.61   35.26   36.80  3.740000e+11\n",
            "3 2023-10-20     38.69       37.85     -1.28   37.39   38.86  2.500000e+11\n",
            "4 2023-10-19     38.36       38.34     -0.47   37.92   38.47  2.140000e+11\n"
          ]
        }
      ]
    },
    {
      "cell_type": "code",
      "source": [
        "# modelo 1\n",
        "\n",
        "X = treino[['ABERTURA', 'VARIAÇÃO', 'MÍNIMO', 'MÁXIMO', 'VOLUME']]\n",
        "y = treino['FECHAMENTO']\n",
        "\n",
        "X_train, X_test, y_train, y_test = train_test_split(X, y, test_size=0.2, random_state=42)\n",
        "\n",
        "model = LinearRegression()\n",
        "model.fit(X_train, y_train)\n"
      ],
      "metadata": {
        "id": "HxchNbQ5ORAk",
        "colab": {
          "base_uri": "https://localhost:8080/",
          "height": 92
        },
        "outputId": "33d847c5-04df-4925-9194-5960bb24f0ba"
      },
      "execution_count": null,
      "outputs": [
        {
          "output_type": "execute_result",
          "data": {
            "text/plain": [
              "LinearRegression()"
            ],
            "text/html": [
              "<style>#sk-container-id-1 {color: black;background-color: white;}#sk-container-id-1 pre{padding: 0;}#sk-container-id-1 div.sk-toggleable {background-color: white;}#sk-container-id-1 label.sk-toggleable__label {cursor: pointer;display: block;width: 100%;margin-bottom: 0;padding: 0.3em;box-sizing: border-box;text-align: center;}#sk-container-id-1 label.sk-toggleable__label-arrow:before {content: \"▸\";float: left;margin-right: 0.25em;color: #696969;}#sk-container-id-1 label.sk-toggleable__label-arrow:hover:before {color: black;}#sk-container-id-1 div.sk-estimator:hover label.sk-toggleable__label-arrow:before {color: black;}#sk-container-id-1 div.sk-toggleable__content {max-height: 0;max-width: 0;overflow: hidden;text-align: left;background-color: #f0f8ff;}#sk-container-id-1 div.sk-toggleable__content pre {margin: 0.2em;color: black;border-radius: 0.25em;background-color: #f0f8ff;}#sk-container-id-1 input.sk-toggleable__control:checked~div.sk-toggleable__content {max-height: 200px;max-width: 100%;overflow: auto;}#sk-container-id-1 input.sk-toggleable__control:checked~label.sk-toggleable__label-arrow:before {content: \"▾\";}#sk-container-id-1 div.sk-estimator input.sk-toggleable__control:checked~label.sk-toggleable__label {background-color: #d4ebff;}#sk-container-id-1 div.sk-label input.sk-toggleable__control:checked~label.sk-toggleable__label {background-color: #d4ebff;}#sk-container-id-1 input.sk-hidden--visually {border: 0;clip: rect(1px 1px 1px 1px);clip: rect(1px, 1px, 1px, 1px);height: 1px;margin: -1px;overflow: hidden;padding: 0;position: absolute;width: 1px;}#sk-container-id-1 div.sk-estimator {font-family: monospace;background-color: #f0f8ff;border: 1px dotted black;border-radius: 0.25em;box-sizing: border-box;margin-bottom: 0.5em;}#sk-container-id-1 div.sk-estimator:hover {background-color: #d4ebff;}#sk-container-id-1 div.sk-parallel-item::after {content: \"\";width: 100%;border-bottom: 1px solid gray;flex-grow: 1;}#sk-container-id-1 div.sk-label:hover label.sk-toggleable__label {background-color: #d4ebff;}#sk-container-id-1 div.sk-serial::before {content: \"\";position: absolute;border-left: 1px solid gray;box-sizing: border-box;top: 0;bottom: 0;left: 50%;z-index: 0;}#sk-container-id-1 div.sk-serial {display: flex;flex-direction: column;align-items: center;background-color: white;padding-right: 0.2em;padding-left: 0.2em;position: relative;}#sk-container-id-1 div.sk-item {position: relative;z-index: 1;}#sk-container-id-1 div.sk-parallel {display: flex;align-items: stretch;justify-content: center;background-color: white;position: relative;}#sk-container-id-1 div.sk-item::before, #sk-container-id-1 div.sk-parallel-item::before {content: \"\";position: absolute;border-left: 1px solid gray;box-sizing: border-box;top: 0;bottom: 0;left: 50%;z-index: -1;}#sk-container-id-1 div.sk-parallel-item {display: flex;flex-direction: column;z-index: 1;position: relative;background-color: white;}#sk-container-id-1 div.sk-parallel-item:first-child::after {align-self: flex-end;width: 50%;}#sk-container-id-1 div.sk-parallel-item:last-child::after {align-self: flex-start;width: 50%;}#sk-container-id-1 div.sk-parallel-item:only-child::after {width: 0;}#sk-container-id-1 div.sk-dashed-wrapped {border: 1px dashed gray;margin: 0 0.4em 0.5em 0.4em;box-sizing: border-box;padding-bottom: 0.4em;background-color: white;}#sk-container-id-1 div.sk-label label {font-family: monospace;font-weight: bold;display: inline-block;line-height: 1.2em;}#sk-container-id-1 div.sk-label-container {text-align: center;}#sk-container-id-1 div.sk-container {/* jupyter's `normalize.less` sets `[hidden] { display: none; }` but bootstrap.min.css set `[hidden] { display: none !important; }` so we also need the `!important` here to be able to override the default hidden behavior on the sphinx rendered scikit-learn.org. See: https://github.com/scikit-learn/scikit-learn/issues/21755 */display: inline-block !important;position: relative;}#sk-container-id-1 div.sk-text-repr-fallback {display: none;}</style><div id=\"sk-container-id-1\" class=\"sk-top-container\"><div class=\"sk-text-repr-fallback\"><pre>LinearRegression()</pre><b>In a Jupyter environment, please rerun this cell to show the HTML representation or trust the notebook. <br />On GitHub, the HTML representation is unable to render, please try loading this page with nbviewer.org.</b></div><div class=\"sk-container\" hidden><div class=\"sk-item\"><div class=\"sk-estimator sk-toggleable\"><input class=\"sk-toggleable__control sk-hidden--visually\" id=\"sk-estimator-id-1\" type=\"checkbox\" checked><label for=\"sk-estimator-id-1\" class=\"sk-toggleable__label sk-toggleable__label-arrow\">LinearRegression</label><div class=\"sk-toggleable__content\"><pre>LinearRegression()</pre></div></div></div></div></div>"
            ]
          },
          "metadata": {},
          "execution_count": 8
        }
      ]
    },
    {
      "cell_type": "code",
      "source": [
        "# modelo 1\n",
        "\n",
        "y_pred = model.predict(X_test)\n",
        "\n",
        "mse = mean_squared_error(y_test, y_pred)\n",
        "r_squared = r2_score(y_test, y_pred)\n",
        "\n",
        "print(f'Mean Squared Error (MSE): {mse}') #erro médio quadrático (Mean Squared Error - MSE)\n",
        "print(f'R-squared (R²): {r_squared}') #coeficiente de determinação (R-squared)\n"
      ],
      "metadata": {
        "colab": {
          "base_uri": "https://localhost:8080/"
        },
        "id": "_cW135vQOgka",
        "outputId": "06a9b242-e457-40f1-cc40-311fcb9a32f8"
      },
      "execution_count": null,
      "outputs": [
        {
          "output_type": "stream",
          "name": "stdout",
          "text": [
            "Mean Squared Error (MSE): 0.022228553293155224\n",
            "R-squared (R²): 0.9903135497145273\n"
          ]
        }
      ]
    },
    {
      "cell_type": "code",
      "source": [
        "# modelo 1\n",
        "\n",
        "# Coeficiente do intercepto (b0)\n",
        "intercept = model.intercept_\n",
        "\n",
        "# Coeficientes das variáveis independentes (b1, b2, ...)\n",
        "coefficients = model.coef_\n",
        "\n",
        "# Nomes das variáveis independentes (nomes das features)\n",
        "feature_names = X.columns  # Substitua 'X' pelo DataFrame que contém suas features\n",
        "\n",
        "# Exibir a equação da regressão linear\n",
        "equation = f\"y = {intercept:.2f}\"\n",
        "for i, coefficient in enumerate(coefficients):\n",
        "    equation += f\" + {coefficient:.2f} * {feature_names[i]}\"\n",
        "\n",
        "print(\"Equação da Regressão Linear:\")\n",
        "print(equation)\n"
      ],
      "metadata": {
        "colab": {
          "base_uri": "https://localhost:8080/"
        },
        "id": "JRQp8x-JVFvb",
        "outputId": "6def908e-9994-467d-857b-46d1bce483d2"
      },
      "execution_count": null,
      "outputs": [
        {
          "output_type": "stream",
          "name": "stdout",
          "text": [
            "Equação da Regressão Linear:\n",
            "y = -0.89 + -0.18 * ABERTURA + 0.10 * VARIAÇÃO + 0.58 * MÍNIMO + 0.63 * MÁXIMO + -0.00 * VOLUME\n"
          ]
        }
      ]
    },
    {
      "cell_type": "code",
      "source": [
        "# modelo 1\n",
        "\n",
        "# Exemplo de previsão com novos dados\n",
        "new_data = pd.DataFrame({'ABERTURA': [36.0], 'VARIAÇÃO': [1.2], 'MÍNIMO': [34.8], 'MÁXIMO': [35.5], 'VOLUME': [1.180000e+11]})\n",
        "predicted_closing_price = model.predict(new_data)\n",
        "print(f'Previsão do valor de fechamento: {predicted_closing_price[0]}')\n"
      ],
      "metadata": {
        "colab": {
          "base_uri": "https://localhost:8080/"
        },
        "id": "CYZxxfqqO8kM",
        "outputId": "588f28b3-1e69-4036-ba21-1c350fa932ac"
      },
      "execution_count": null,
      "outputs": [
        {
          "output_type": "stream",
          "name": "stdout",
          "text": [
            "Previsão do valor de fechamento: 35.20270839688935\n"
          ]
        }
      ]
    },
    {
      "cell_type": "code",
      "source": [
        "# modelo 2\n",
        "\n",
        "X = treino[['VARIAÇÃO', 'MÍNIMO', 'MÁXIMO']]\n",
        "y = treino['FECHAMENTO']\n",
        "\n",
        "X_train, X_test, y_train, y_test = train_test_split(X, y, test_size=0.2, random_state=42)\n",
        "\n",
        "model = LinearRegression()\n",
        "model.fit(X_train, y_train)\n"
      ],
      "metadata": {
        "colab": {
          "base_uri": "https://localhost:8080/",
          "height": 92
        },
        "id": "Ffa03Rv_bNn8",
        "outputId": "4ec2125c-1e5f-4de6-9554-e2e454f7ecf0"
      },
      "execution_count": null,
      "outputs": [
        {
          "output_type": "execute_result",
          "data": {
            "text/plain": [
              "LinearRegression()"
            ],
            "text/html": [
              "<style>#sk-container-id-2 {color: black;background-color: white;}#sk-container-id-2 pre{padding: 0;}#sk-container-id-2 div.sk-toggleable {background-color: white;}#sk-container-id-2 label.sk-toggleable__label {cursor: pointer;display: block;width: 100%;margin-bottom: 0;padding: 0.3em;box-sizing: border-box;text-align: center;}#sk-container-id-2 label.sk-toggleable__label-arrow:before {content: \"▸\";float: left;margin-right: 0.25em;color: #696969;}#sk-container-id-2 label.sk-toggleable__label-arrow:hover:before {color: black;}#sk-container-id-2 div.sk-estimator:hover label.sk-toggleable__label-arrow:before {color: black;}#sk-container-id-2 div.sk-toggleable__content {max-height: 0;max-width: 0;overflow: hidden;text-align: left;background-color: #f0f8ff;}#sk-container-id-2 div.sk-toggleable__content pre {margin: 0.2em;color: black;border-radius: 0.25em;background-color: #f0f8ff;}#sk-container-id-2 input.sk-toggleable__control:checked~div.sk-toggleable__content {max-height: 200px;max-width: 100%;overflow: auto;}#sk-container-id-2 input.sk-toggleable__control:checked~label.sk-toggleable__label-arrow:before {content: \"▾\";}#sk-container-id-2 div.sk-estimator input.sk-toggleable__control:checked~label.sk-toggleable__label {background-color: #d4ebff;}#sk-container-id-2 div.sk-label input.sk-toggleable__control:checked~label.sk-toggleable__label {background-color: #d4ebff;}#sk-container-id-2 input.sk-hidden--visually {border: 0;clip: rect(1px 1px 1px 1px);clip: rect(1px, 1px, 1px, 1px);height: 1px;margin: -1px;overflow: hidden;padding: 0;position: absolute;width: 1px;}#sk-container-id-2 div.sk-estimator {font-family: monospace;background-color: #f0f8ff;border: 1px dotted black;border-radius: 0.25em;box-sizing: border-box;margin-bottom: 0.5em;}#sk-container-id-2 div.sk-estimator:hover {background-color: #d4ebff;}#sk-container-id-2 div.sk-parallel-item::after {content: \"\";width: 100%;border-bottom: 1px solid gray;flex-grow: 1;}#sk-container-id-2 div.sk-label:hover label.sk-toggleable__label {background-color: #d4ebff;}#sk-container-id-2 div.sk-serial::before {content: \"\";position: absolute;border-left: 1px solid gray;box-sizing: border-box;top: 0;bottom: 0;left: 50%;z-index: 0;}#sk-container-id-2 div.sk-serial {display: flex;flex-direction: column;align-items: center;background-color: white;padding-right: 0.2em;padding-left: 0.2em;position: relative;}#sk-container-id-2 div.sk-item {position: relative;z-index: 1;}#sk-container-id-2 div.sk-parallel {display: flex;align-items: stretch;justify-content: center;background-color: white;position: relative;}#sk-container-id-2 div.sk-item::before, #sk-container-id-2 div.sk-parallel-item::before {content: \"\";position: absolute;border-left: 1px solid gray;box-sizing: border-box;top: 0;bottom: 0;left: 50%;z-index: -1;}#sk-container-id-2 div.sk-parallel-item {display: flex;flex-direction: column;z-index: 1;position: relative;background-color: white;}#sk-container-id-2 div.sk-parallel-item:first-child::after {align-self: flex-end;width: 50%;}#sk-container-id-2 div.sk-parallel-item:last-child::after {align-self: flex-start;width: 50%;}#sk-container-id-2 div.sk-parallel-item:only-child::after {width: 0;}#sk-container-id-2 div.sk-dashed-wrapped {border: 1px dashed gray;margin: 0 0.4em 0.5em 0.4em;box-sizing: border-box;padding-bottom: 0.4em;background-color: white;}#sk-container-id-2 div.sk-label label {font-family: monospace;font-weight: bold;display: inline-block;line-height: 1.2em;}#sk-container-id-2 div.sk-label-container {text-align: center;}#sk-container-id-2 div.sk-container {/* jupyter's `normalize.less` sets `[hidden] { display: none; }` but bootstrap.min.css set `[hidden] { display: none !important; }` so we also need the `!important` here to be able to override the default hidden behavior on the sphinx rendered scikit-learn.org. See: https://github.com/scikit-learn/scikit-learn/issues/21755 */display: inline-block !important;position: relative;}#sk-container-id-2 div.sk-text-repr-fallback {display: none;}</style><div id=\"sk-container-id-2\" class=\"sk-top-container\"><div class=\"sk-text-repr-fallback\"><pre>LinearRegression()</pre><b>In a Jupyter environment, please rerun this cell to show the HTML representation or trust the notebook. <br />On GitHub, the HTML representation is unable to render, please try loading this page with nbviewer.org.</b></div><div class=\"sk-container\" hidden><div class=\"sk-item\"><div class=\"sk-estimator sk-toggleable\"><input class=\"sk-toggleable__control sk-hidden--visually\" id=\"sk-estimator-id-2\" type=\"checkbox\" checked><label for=\"sk-estimator-id-2\" class=\"sk-toggleable__label sk-toggleable__label-arrow\">LinearRegression</label><div class=\"sk-toggleable__content\"><pre>LinearRegression()</pre></div></div></div></div></div>"
            ]
          },
          "metadata": {},
          "execution_count": 12
        }
      ]
    },
    {
      "cell_type": "code",
      "source": [
        "# modelo 2\n",
        "\n",
        "y_pred = model.predict(X_test)\n",
        "\n",
        "mse = mean_squared_error(y_test, y_pred)\n",
        "r_squared = r2_score(y_test, y_pred)\n",
        "\n",
        "print(f'Mean Squared Error (MSE): {mse}') #erro médio quadrático (Mean Squared Error - MSE)\n",
        "print(f'R-squared (R²): {r_squared}') #coeficiente de determinação (R-squared)\n"
      ],
      "metadata": {
        "colab": {
          "base_uri": "https://localhost:8080/"
        },
        "outputId": "6e076231-7d62-4a97-d843-c1c56d06ef1d",
        "id": "uNSLJdDVbNoQ"
      },
      "execution_count": null,
      "outputs": [
        {
          "output_type": "stream",
          "name": "stdout",
          "text": [
            "Mean Squared Error (MSE): 0.016896936477656936\n",
            "R-squared (R²): 0.9926368876548519\n"
          ]
        }
      ]
    },
    {
      "cell_type": "code",
      "source": [
        "# modelo 2\n",
        "\n",
        "# Coeficiente do intercepto (b0)\n",
        "intercept = model.intercept_\n",
        "\n",
        "# Coeficientes das variáveis independentes (b1, b2, ...)\n",
        "coefficients = model.coef_\n",
        "\n",
        "# Nomes das variáveis independentes (nomes das features)\n",
        "feature_names = X.columns  # Substitua 'X' pelo DataFrame que contém suas features\n",
        "\n",
        "# Exibir a equação da regressão linear\n",
        "equation = f\"y = {intercept:.2f}\"\n",
        "for i, coefficient in enumerate(coefficients):\n",
        "    equation += f\" + {coefficient:.2f} * {feature_names[i]}\"\n",
        "\n",
        "print(\"Equação da Regressão Linear:\")\n",
        "print(equation)\n"
      ],
      "metadata": {
        "colab": {
          "base_uri": "https://localhost:8080/"
        },
        "outputId": "d73ca553-204f-4d41-8b15-41d408f707e0",
        "id": "B7iAdWYwbNoR"
      },
      "execution_count": null,
      "outputs": [
        {
          "output_type": "stream",
          "name": "stdout",
          "text": [
            "Equação da Regressão Linear:\n",
            "y = -0.92 + 0.12 * VARIAÇÃO + 0.59 * MÍNIMO + 0.44 * MÁXIMO\n"
          ]
        }
      ]
    },
    {
      "cell_type": "code",
      "source": [
        "# modelo 2\n",
        "\n",
        "# Exemplo de previsão com novos dados\n",
        "new_data = pd.DataFrame({'VARIAÇÃO': [1.2], 'MÍNIMO': [34.8], 'MÁXIMO': [35.5]})\n",
        "predicted_closing_price = model.predict(new_data)\n",
        "print(f'Previsão do valor de fechamento: {predicted_closing_price[0]}')\n"
      ],
      "metadata": {
        "colab": {
          "base_uri": "https://localhost:8080/"
        },
        "outputId": "b52cd762-c0f7-4693-ee12-cee25352d5b9",
        "id": "QynOSBZ4bNoS"
      },
      "execution_count": null,
      "outputs": [
        {
          "output_type": "stream",
          "name": "stdout",
          "text": [
            "Previsão do valor de fechamento: 35.32523187032543\n"
          ]
        }
      ]
    }
  ]
}